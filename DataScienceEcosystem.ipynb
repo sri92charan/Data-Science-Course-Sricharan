{
 "cells": [
  {
   "cell_type": "markdown",
   "id": "aeb2133e-5d57-4b74-a4ab-a32e6aaf3c2d",
   "metadata": {
    "tags": []
   },
   "source": [
    "# Data Science Tools and Ecosystem "
   ]
  },
  {
   "cell_type": "markdown",
   "id": "d7d14902-d7ef-4bef-880b-2b96196877a0",
   "metadata": {},
   "source": [
    "In this notebook, Data Science Tools and Ecosystem are summarized."
   ]
  },
  {
   "cell_type": "markdown",
   "id": "7654ddee-2129-4429-bce9-6663e5ab0487",
   "metadata": {},
   "source": [
    "**Objectives:**\n",
    "-List popular languages for Data Science\n",
    "-List popular tools for data science\n",
    "-List popular development environments for data science\n",
    "-Perform simple operations on Jupyter notebook"
   ]
  },
  {
   "cell_type": "markdown",
   "id": "eca212cd-905d-4055-abc0-5de89fe10784",
   "metadata": {},
   "source": [
    "## Author\n",
    "Sricharan Rajagopal"
   ]
  },
  {
   "cell_type": "markdown",
   "id": "456527d2-8a61-44be-8c67-ac462836b51c",
   "metadata": {},
   "source": [
    "Some of the popular languages that Data Scientists use are:\n",
    "1. Python\n",
    "2. R\n",
    "3. Scala\n",
    "4. Java\n",
    "5. Julia"
   ]
  },
  {
   "cell_type": "markdown",
   "id": "6f62dda7-a3d3-420e-b992-b64e14c31341",
   "metadata": {},
   "source": [
    "Some of the commonly used libraries used by Data Scientists include:\n",
    "1. TensorFlow\n",
    "2. Pandas\n",
    "3. PyTorch"
   ]
  },
  {
   "cell_type": "markdown",
   "id": "f73182d4-83ad-4718-a2f2-04c5f7cc580e",
   "metadata": {},
   "source": [
    "|Data Science Tools|\n",
    "|------------------|\n",
    "|Jupyter Notebook|\n",
    "|R Studio|\n",
    "|Jupyter Lab|"
   ]
  },
  {
   "cell_type": "markdown",
   "id": "a40d68d3-cf59-40d0-a6f6-df2ad8881370",
   "metadata": {},
   "source": [
    "### Below are a few examples of evaluating arithmetic expressions in Python"
   ]
  },
  {
   "cell_type": "code",
   "execution_count": 1,
   "id": "d6008c36-b08b-4f15-b47e-31f35e3ce976",
   "metadata": {
    "tags": []
   },
   "outputs": [
    {
     "data": {
      "text/plain": [
       "17"
      ]
     },
     "execution_count": 1,
     "metadata": {},
     "output_type": "execute_result"
    }
   ],
   "source": [
    "#This a simple arithmetic expression to mutiply then add integers\n",
    "(3*4)+5"
   ]
  },
  {
   "cell_type": "code",
   "execution_count": 3,
   "id": "2f5cef59-b8eb-42e7-b186-95eb8d9f14b9",
   "metadata": {
    "tags": []
   },
   "outputs": [
    {
     "data": {
      "text/plain": [
       "3.3333333333333335"
      ]
     },
     "execution_count": 3,
     "metadata": {},
     "output_type": "execute_result"
    }
   ],
   "source": [
    "#This will convert 200 minutes to hours by diving by 60\n",
    "200/60"
   ]
  },
  {
   "cell_type": "code",
   "execution_count": null,
   "id": "c5f35bce-20c0-43b7-8f1f-26e4f2fd3079",
   "metadata": {},
   "outputs": [],
   "source": []
  }
 ],
 "metadata": {
  "kernelspec": {
   "display_name": "Python",
   "language": "python",
   "name": "conda-env-python-py"
  },
  "language_info": {
   "codemirror_mode": {
    "name": "ipython",
    "version": 3
   },
   "file_extension": ".py",
   "mimetype": "text/x-python",
   "name": "python",
   "nbconvert_exporter": "python",
   "pygments_lexer": "ipython3",
   "version": "3.7.12"
  }
 },
 "nbformat": 4,
 "nbformat_minor": 5
}
